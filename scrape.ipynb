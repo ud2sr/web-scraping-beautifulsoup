{
  "nbformat": 4,
  "nbformat_minor": 0,
  "metadata": {
    "colab": {
      "name": "scrape",
      "provenance": [],
      "collapsed_sections": []
    },
    "kernelspec": {
      "name": "python3",
      "display_name": "Python 3"
    },
    "language_info": {
      "name": "python"
    }
  },
  "cells": [
    {
      "cell_type": "code",
      "execution_count": 1,
      "metadata": {
        "id": "Np81N_99Ozuy"
      },
      "outputs": [],
      "source": [
        "import requests\n",
        "from bs4 import BeautifulSoup\n",
        "import pandas as pd"
      ]
    },
    {
      "cell_type": "code",
      "source": [
        "url = 'https://www.thehimalayanorganics.in/collections/the-face-serum'\n",
        "\n",
        "def get_data(url):\n",
        "    r = requests.get(url)\n",
        "    soup = BeautifulSoup(r.text, 'html.parser')\n",
        "    return soup\n",
        "\n",
        "def parse(soup):\n",
        "    productlist = []\n",
        "    results = soup.find_all('div',{'class':'title'})\n",
        "    for item in results:\n",
        "        products = {\n",
        "        'title': item.find('h3', {'class':'popup_cart_title'}).text.replace('\\n','').strip(),\n",
        "        'link': 'https://www.thehimalayanorganics.in' + item.find('a', {'class': ''})['href'],\n",
        "        'discounted-price': float(item.find('span', {'class':'discounted-price'}).find('span', {'class':'money'}).text.replace('Rs. ','').replace(',','').strip()),\n",
        "        'original-price': float(item.find('span', {'class':'main-price'}).find('span', {'class':'money'}).text.replace('Rs. ','').replace(',','').strip())\n",
        "        #'old-price': float(item.find('span', {'class':'old-price'}).text.replace('Rs. ','').replace(',','').strip())\n",
        "        #'bids': item.find('span', {'class': 's-item__bids'}).text,\n",
        "        }\n",
        "        productlist.append(products)\n",
        "        #print(products)\n",
        "    return productlist\n",
        "\n",
        "def export(productlist):\n",
        "    productsdf = pd.DataFrame(productlist)\n",
        "    productsdf.to_csv('testoutput.csv', index=False)\n",
        "    print('Saved to CSV')\n",
        "    return\n",
        "\n",
        "soup = get_data(url)\n",
        "productlist = parse(soup)\n",
        "export(productlist)"
      ],
      "metadata": {
        "id": "G-3b1BJZPIGA",
        "colab": {
          "base_uri": "https://localhost:8080/"
        },
        "outputId": "6b638a79-0dfe-40ba-a3b6-eea944e26293"
      },
      "execution_count": 87,
      "outputs": [
        {
          "output_type": "stream",
          "name": "stdout",
          "text": [
            "Saved to CSV\n"
          ]
        }
      ]
    }
  ]
}